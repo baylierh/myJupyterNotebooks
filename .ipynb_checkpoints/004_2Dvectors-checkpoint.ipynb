{
 "cells": [
  {
   "cell_type": "code",
   "execution_count": 18,
   "metadata": {},
   "outputs": [],
   "source": [
    "import numpy as np\n",
    "from math import sqrt"
   ]
  },
  {
   "cell_type": "code",
   "execution_count": 5,
   "metadata": {},
   "outputs": [
    {
     "name": "stdout",
     "output_type": "stream",
     "text": [
      "[ 4 -2]\n",
      "[-3  5]\n"
     ]
    }
   ],
   "source": [
    "# Given Vectors\n",
    "a = np.array([4, -2])\n",
    "print(a)\n",
    "\n",
    "b = np.array([-3, 5])\n",
    "print(b)"
   ]
  },
  {
   "cell_type": "code",
   "execution_count": 6,
   "metadata": {},
   "outputs": [
    {
     "name": "stdout",
     "output_type": "stream",
     "text": [
      "[ 7 -7]\n"
     ]
    }
   ],
   "source": [
    "# 3) Find vector c\n",
    "c = a - b\n",
    "print(c)"
   ]
  },
  {
   "cell_type": "code",
   "execution_count": 7,
   "metadata": {},
   "outputs": [
    {
     "name": "stdout",
     "output_type": "stream",
     "text": [
      "9.899494936611665\n",
      "9.899494936611665\n"
     ]
    }
   ],
   "source": [
    "# 4) Calculate the length of c\n",
    "normc = np.linalg.norm(c)\n",
    "print(normc)\n",
    "# Compare to my calculation\n",
    "print(sqrt(98))"
   ]
  },
  {
   "cell_type": "code",
   "execution_count": 8,
   "metadata": {},
   "outputs": [
    {
     "name": "stdout",
     "output_type": "stream",
     "text": [
      "4.47213595499958\n",
      "4.47213595499958\n"
     ]
    }
   ],
   "source": [
    "# 5) Find the length of a\n",
    "norma = np.linalg.norm(a)\n",
    "print(norma)\n",
    "# Compare to my calculation\n",
    "print(sqrt(20))"
   ]
  },
  {
   "cell_type": "code",
   "execution_count": 9,
   "metadata": {},
   "outputs": [
    {
     "name": "stdout",
     "output_type": "stream",
     "text": [
      "5.830951894845301\n",
      "5.830951894845301\n"
     ]
    }
   ],
   "source": [
    "# 6) Find the length of b\n",
    "normb = np.linalg.norm(b)\n",
    "print(normb)\n",
    "# Compare to my calculation\n",
    "print(sqrt(34))"
   ]
  },
  {
   "cell_type": "code",
   "execution_count": 10,
   "metadata": {},
   "outputs": [
    {
     "name": "stdout",
     "output_type": "stream",
     "text": [
      "9.899494936611665\n",
      "9.899494936611665\n"
     ]
    }
   ],
   "source": [
    "# 7) Find the length of (a-b)\n",
    "norm_aminb = np.linalg.norm(a - b)\n",
    "print(norm_aminb)\n",
    "# Compare to my calculation\n",
    "print(sqrt(98))"
   ]
  },
  {
   "cell_type": "code",
   "execution_count": 11,
   "metadata": {},
   "outputs": [
    {
     "name": "stdout",
     "output_type": "stream",
     "text": [
      "-22\n",
      "-22\n"
     ]
    }
   ],
   "source": [
    "# 8) Find the dot product of a and b\n",
    "dot_ab = np.dot(a,b)\n",
    "print(dot_ab)\n",
    "# Compare to my calculation\n",
    "print(-22)"
   ]
  },
  {
   "cell_type": "code",
   "execution_count": 15,
   "metadata": {},
   "outputs": [
    {
     "name": "stdout",
     "output_type": "stream",
     "text": [
      "-0.8436614877321075\n",
      "-0.8436614877321075\n"
     ]
    }
   ],
   "source": [
    "# 9) Find the cosine of the angle between a and b\n",
    "cos_ang_ab = dot_ab / (norma * normb)\n",
    "print(cos_ang_ab)\n",
    "# Compare to my calculation\n",
    "print(-22 / (sqrt(20)*sqrt(34)))"
   ]
  },
  {
   "cell_type": "code",
   "execution_count": 19,
   "metadata": {},
   "outputs": [
    {
     "name": "stdout",
     "output_type": "stream",
     "text": [
      "2.5748634360662868\n",
      "2.5748634360662868\n"
     ]
    }
   ],
   "source": [
    "# 10) Find the angle between vectors a and b\n",
    "ang_ab = np.arccos(dot_ab / (norma * normb))\n",
    "print(ang_ab)\n",
    "# Compare to my calculation\n",
    "print(np.arccos(-22 / (sqrt(20)*sqrt(34))))"
   ]
  }
 ],
 "metadata": {
  "kernelspec": {
   "display_name": "Python 3",
   "language": "python",
   "name": "python3"
  },
  "language_info": {
   "codemirror_mode": {
    "name": "ipython",
    "version": 3
   },
   "file_extension": ".py",
   "mimetype": "text/x-python",
   "name": "python",
   "nbconvert_exporter": "python",
   "pygments_lexer": "ipython3",
   "version": "3.6.9"
  }
 },
 "nbformat": 4,
 "nbformat_minor": 2
}
