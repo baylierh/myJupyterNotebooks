{
 "cells": [
  {
   "cell_type": "code",
   "execution_count": 5,
   "metadata": {},
   "outputs": [],
   "source": [
    "import numpy as np\n",
    "from math import sqrt"
   ]
  },
  {
   "cell_type": "code",
   "execution_count": 6,
   "metadata": {},
   "outputs": [
    {
     "name": "stdout",
     "output_type": "stream",
     "text": [
      "[ 1 -2 16 40  0]\n",
      "[  3.16  25.    -3.    -6.5  108.  ]\n"
     ]
    }
   ],
   "source": [
    "# Given Vectors\n",
    "a = np.array([1, -2, 16, 40, 0])\n",
    "print(a)\n",
    "\n",
    "b = np.array([3.16, 25, -3, -6.5, 108])\n",
    "print(b)"
   ]
  },
  {
   "cell_type": "code",
   "execution_count": 7,
   "metadata": {},
   "outputs": [
    {
     "name": "stdout",
     "output_type": "stream",
     "text": [
      "[  -2.16  -27.     19.     46.5  -108.  ]\n"
     ]
    }
   ],
   "source": [
    "# 3) Find vector c\n",
    "c = a - b\n",
    "print(c)"
   ]
  },
  {
   "cell_type": "code",
   "execution_count": 9,
   "metadata": {},
   "outputs": [
    {
     "name": "stdout",
     "output_type": "stream",
     "text": [
      "122.1511997485084\n",
      "122.1511997485084\n"
     ]
    }
   ],
   "source": [
    "# 4) Calculate the length of c\n",
    "normc = np.linalg.norm(c)\n",
    "print(normc)\n",
    "# Compare to my calculation\n",
    "print(sqrt(14920.9156))"
   ]
  },
  {
   "cell_type": "code",
   "execution_count": 10,
   "metadata": {},
   "outputs": [
    {
     "name": "stdout",
     "output_type": "stream",
     "text": [
      "43.139309220245984\n",
      "43.139309220245984\n"
     ]
    }
   ],
   "source": [
    "# 5) Find the length of a\n",
    "norma = np.linalg.norm(a)\n",
    "print(norma)\n",
    "# Compare to my calculation\n",
    "print(sqrt(1861))"
   ]
  },
  {
   "cell_type": "code",
   "execution_count": 11,
   "metadata": {},
   "outputs": [
    {
     "name": "stdout",
     "output_type": "stream",
     "text": [
      "111.13161386392262\n",
      "111.13161386392262\n"
     ]
    }
   ],
   "source": [
    "# 6) Find the length of b\n",
    "normb = np.linalg.norm(b)\n",
    "print(normb)\n",
    "# Compare to my calculation\n",
    "print(sqrt(12350.2356))"
   ]
  },
  {
   "cell_type": "code",
   "execution_count": null,
   "metadata": {},
   "outputs": [],
   "source": []
  }
 ],
 "metadata": {
  "kernelspec": {
   "display_name": "Python 3",
   "language": "python",
   "name": "python3"
  },
  "language_info": {
   "codemirror_mode": {
    "name": "ipython",
    "version": 3
   },
   "file_extension": ".py",
   "mimetype": "text/x-python",
   "name": "python",
   "nbconvert_exporter": "python",
   "pygments_lexer": "ipython3",
   "version": "3.6.9"
  }
 },
 "nbformat": 4,
 "nbformat_minor": 2
}
