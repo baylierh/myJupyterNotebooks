{
 "cells": [
  {
   "cell_type": "code",
   "execution_count": 13,
   "metadata": {},
   "outputs": [],
   "source": [
    "import numpy as np\n",
    "from math import sqrt"
   ]
  },
  {
   "cell_type": "code",
   "execution_count": 14,
   "metadata": {},
   "outputs": [
    {
     "name": "stdout",
     "output_type": "stream",
     "text": [
      "[ 1 -2 16 40  0]\n",
      "[  3.16  25.    -3.    -6.5  108.  ]\n"
     ]
    }
   ],
   "source": [
    "# Given Vectors\n",
    "a = np.array([1, -2, 16, 40, 0])\n",
    "print(a)\n",
    "\n",
    "b = np.array([3.16, 25, -3, -6.5, 108])\n",
    "print(b)"
   ]
  },
  {
   "cell_type": "code",
   "execution_count": 15,
   "metadata": {},
   "outputs": [
    {
     "name": "stdout",
     "output_type": "stream",
     "text": [
      "[  -2.16  -27.     19.     46.5  -108.  ]\n"
     ]
    }
   ],
   "source": [
    "# 3) Find vector c\n",
    "c = a - b\n",
    "print(c)"
   ]
  },
  {
   "cell_type": "code",
   "execution_count": 16,
   "metadata": {},
   "outputs": [
    {
     "name": "stdout",
     "output_type": "stream",
     "text": [
      "122.1511997485084\n",
      "122.1511997485084\n"
     ]
    }
   ],
   "source": [
    "# 4) Calculate the length of c\n",
    "normc = np.linalg.norm(c)\n",
    "print(normc)\n",
    "# Compare to my calculation\n",
    "print(sqrt(14920.9156))"
   ]
  },
  {
   "cell_type": "code",
   "execution_count": 17,
   "metadata": {},
   "outputs": [
    {
     "name": "stdout",
     "output_type": "stream",
     "text": [
      "43.139309220245984\n",
      "43.139309220245984\n"
     ]
    }
   ],
   "source": [
    "# 5) Find the length of a\n",
    "norma = np.linalg.norm(a)\n",
    "print(norma)\n",
    "# Compare to my calculation\n",
    "print(sqrt(1861))"
   ]
  },
  {
   "cell_type": "code",
   "execution_count": 18,
   "metadata": {},
   "outputs": [
    {
     "name": "stdout",
     "output_type": "stream",
     "text": [
      "111.13161386392262\n",
      "111.13161386392262\n"
     ]
    }
   ],
   "source": [
    "# 6) Find the length of b\n",
    "normb = np.linalg.norm(b)\n",
    "print(normb)\n",
    "# Compare to my calculation\n",
    "print(sqrt(12350.2356))"
   ]
  },
  {
   "cell_type": "code",
   "execution_count": 19,
   "metadata": {},
   "outputs": [
    {
     "name": "stdout",
     "output_type": "stream",
     "text": [
      "122.1511997485084\n",
      "122.1511997485084\n"
     ]
    }
   ],
   "source": [
    "# 7) Find the length of (a-b)\n",
    "norm_aminb = np.linalg.norm(a - b)\n",
    "print(norm_aminb)\n",
    "# Compare to my calculation\n",
    "print(sqrt(14920.9156))"
   ]
  },
  {
   "cell_type": "code",
   "execution_count": 20,
   "metadata": {},
   "outputs": [
    {
     "name": "stdout",
     "output_type": "stream",
     "text": [
      "-354.84000000000003\n",
      "-354.84\n"
     ]
    }
   ],
   "source": [
    "# 8) Find the dot product of a and b\n",
    "dot_ab = np.dot(a,b)\n",
    "print(dot_ab)\n",
    "# Compare to my calculation\n",
    "print(-354.84)"
   ]
  },
  {
   "cell_type": "code",
   "execution_count": 21,
   "metadata": {},
   "outputs": [
    {
     "name": "stdout",
     "output_type": "stream",
     "text": [
      "-0.07401534413719323\n",
      "-0.07401534413719321\n"
     ]
    }
   ],
   "source": [
    "# 9) Find the cosine of the angle between a and b\n",
    "cos_ang_ab = dot_ab / (norma * normb)\n",
    "print(cos_ang_ab)\n",
    "# Compare to my calculation\n",
    "print(-354.84 / (sqrt(1861)*sqrt(12350.2356)))"
   ]
  },
  {
   "cell_type": "code",
   "execution_count": 22,
   "metadata": {},
   "outputs": [
    {
     "name": "stdout",
     "output_type": "stream",
     "text": [
      "1.6448794174297847\n",
      "1.6448794174297847\n"
     ]
    }
   ],
   "source": [
    "# 10) Find the angle between vectors a and b\n",
    "ang_ab = np.arccos(dot_ab / (norma * normb))\n",
    "print(ang_ab)\n",
    "# Compare to my calculation\n",
    "print(np.arccos(-354.84 / (sqrt(1861)*sqrt(12350.2356))))\n",
    "#Note: this is the angle in radians. ~94.24 in degrees"
   ]
  },
  {
   "cell_type": "code",
   "execution_count": null,
   "metadata": {},
   "outputs": [],
   "source": []
  }
 ],
 "metadata": {
  "kernelspec": {
   "display_name": "Python 3",
   "language": "python",
   "name": "python3"
  },
  "language_info": {
   "codemirror_mode": {
    "name": "ipython",
    "version": 3
   },
   "file_extension": ".py",
   "mimetype": "text/x-python",
   "name": "python",
   "nbconvert_exporter": "python",
   "pygments_lexer": "ipython3",
   "version": "3.6.9"
  }
 },
 "nbformat": 4,
 "nbformat_minor": 2
}
